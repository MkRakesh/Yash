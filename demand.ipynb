{
 "cells": [
  {
   "cell_type": "code",
   "execution_count": 13,
   "id": "7c9d39e5",
   "metadata": {},
   "outputs": [],
   "source": [
    "import streamlit as st\n",
    "import matplotlib.pyplot as plt\n",
    "import joblib\n",
    "import pickle\n",
    "import statsmodels.api as sm\n",
    "\n",
    "# Load the model\n",
    "loaded_model = joblib.load('final_model.pkl')\n",
    "fit = loaded_model.fit()\n",
    "st.title('Demand Forecating')\n",
    "\n",
    "input1 = st.number_input(\"Forecast Period:\", min_value=0)\n",
    "\n",
    "if input1 != 0 :\n",
    "    # Use the predict method to make forecasts\n",
    "    \n",
    "    forecast_values = fit.predict(start=0, end=input1 - 1)\n",
    "    plt.grid()\n",
    "    forecast_values.plot()\n",
    "    st.write('Demand Forecast')\n",
    "    plt.grid()\n",
    "    st.pyplot(plt)\n",
    "\n"
   ]
  },
  {
   "cell_type": "code",
   "execution_count": null,
   "id": "46b0669a",
   "metadata": {},
   "outputs": [],
   "source": []
  }
 ],
 "metadata": {
  "kernelspec": {
   "display_name": "Python 3 (ipykernel)",
   "language": "python",
   "name": "python3"
  },
  "language_info": {
   "codemirror_mode": {
    "name": "ipython",
    "version": 3
   },
   "file_extension": ".py",
   "mimetype": "text/x-python",
   "name": "python",
   "nbconvert_exporter": "python",
   "pygments_lexer": "ipython3",
   "version": "3.10.9"
  }
 },
 "nbformat": 4,
 "nbformat_minor": 5
}
